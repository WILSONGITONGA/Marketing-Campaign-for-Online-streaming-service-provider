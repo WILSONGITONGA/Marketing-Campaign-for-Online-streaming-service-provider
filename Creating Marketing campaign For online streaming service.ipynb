{
 "cells": [
  {
   "cell_type": "markdown",
   "id": "c0e84d15-bf93-4ab7-a4c6-36ba37140e50",
   "metadata": {},
   "source": [
    "## Marketing campaign for a online streaming service provider"
   ]
  },
  {
   "cell_type": "markdown",
   "id": "6e927f7a-14e6-4954-ac4e-9bd6e6862f46",
   "metadata": {},
   "source": [
    "In This Project , I will be examining marketing campaigns for a online streaming movie provider. Specifically, I'll be analyzing user behavior to determine when a customer's activity has prompted a marketing email.I will be utilizing conditional statements to create a marketing campaign for the service provider."
   ]
  },
  {
   "cell_type": "markdown",
   "id": "fa04c7a7-cea7-45d0-a1a6-404663409768",
   "metadata": {},
   "source": [
    "## Task 1: Define a comparator function\n",
    "\n",
    "As a data professional for a online streaming service provider, my task is to use customers' purchasing data to determine whether or not to send them a marketing email.\n",
    "\n",
    "*   Define a function called `send_email` that accepts the following arguments:\n",
    "    *  `num_visits` - the number of times a customer has visited the Online theater\n",
    "    *  `visits_email` - the minimum number of visits the customer must have made for them to receive a marketing email\n",
    "*   The function must print either: `Send email.` or `Not enough visits.`\n",
    "\n"
   ]
  },
  {
   "cell_type": "code",
   "execution_count": 6,
   "id": "56724f0d-12f7-4d5f-84e1-4a3612815140",
   "metadata": {},
   "outputs": [],
   "source": [
    "## Defining the function called send_email That accepts two arguments(num_visits, visits_email)\n",
    "def send_email(num_visits, visits_email):\n",
    "    if num_visits >= visits_email:\n",
    "        print('Send email.')\n",
    "    else:\n",
    "        print('Not enough visits.')"
   ]
  },
  {
   "cell_type": "markdown",
   "id": "e4d85871-7387-4fff-be28-cae4224c7cbe",
   "metadata": {},
   "source": [
    "### Testing my function\n",
    "Let me test function against the following cases by running the cell below."
   ]
  },
  {
   "cell_type": "code",
   "execution_count": 7,
   "id": "21baf91f-cf07-446c-a7da-ccf245eb3faf",
   "metadata": {},
   "outputs": [
    {
     "name": "stdout",
     "output_type": "stream",
     "text": [
      "Not enough visits.\n",
      "Send email.\n",
      "Send email.\n"
     ]
    }
   ],
   "source": [
    "send_email(num_visits=3, visits_email=5)    # Should print 'Not enough visits.'\n",
    "send_email(num_visits=5, visits_email=5)    # Should print 'Send email.'\n",
    "send_email(num_visits=15, visits_email=10)  # Should print 'Send email.'"
   ]
  },
  {
   "cell_type": "markdown",
   "id": "ab889b04-347d-4d65-9330-f1a63de1f301",
   "metadata": {},
   "source": [
    "## Task 2: Add logical branching to the function\n",
    "\n",
    "The streamng service provider is offering a promotion where customers who have visited the site and made a purchase more than a designated number of times will also receive a coupon with their email. I Will Update the function that I created above to include additional logical branching.\n",
    "\n",
    "*   Include an additional argument `visits_coupon` that represents the minimum number of visits the customer must have made for them to receive a coupon with their email.\n",
    "\n",
    "*   The function must print one of three possible messages:\n",
    "    1. `Send email with coupon.`\n",
    "    2. `Send email only.`\n",
    "    3. `Not enough visits.`\n",
    "    \n",
    "The minimum number of visits to receive a coupon will always be greater than the number to receive an email only."
   ]
  },
  {
   "cell_type": "code",
   "execution_count": 8,
   "id": "685019d5-4ed2-4b96-a329-8d89308cb90c",
   "metadata": {},
   "outputs": [],
   "source": [
    "def send_email(num_visits, visits_email, visits_coupon):\n",
    "    if num_visits >= visits_coupon:\n",
    "        print('Send email with coupon.')\n",
    "    elif num_visits >= visits_email:\n",
    "        print('Send email only.')\n",
    "    else:\n",
    "        print('Not enough visits.')"
   ]
  },
  {
   "cell_type": "markdown",
   "id": "ab23d1b9-9e55-4919-bb84-4689831dddc1",
   "metadata": {},
   "source": [
    "### Testing the function\n",
    "Lets Test the function against the following cases by running the cell below."
   ]
  },
  {
   "cell_type": "code",
   "execution_count": 9,
   "id": "ff58d7f4-8835-491e-81be-7694745ff659",
   "metadata": {},
   "outputs": [
    {
     "name": "stdout",
     "output_type": "stream",
     "text": [
      "Not enough visits.\n",
      "Send email only.\n",
      "Send email only.\n",
      "Send email with coupon.\n",
      "Send email with coupon.\n"
     ]
    }
   ],
   "source": [
    "send_email(num_visits=3, visits_email=5, visits_coupon=8)   # Should print 'Not enough visits.'\n",
    "send_email(num_visits=5, visits_email=5, visits_coupon=8)   # Should print 'Send email only.'\n",
    "send_email(num_visits=6, visits_email=5, visits_coupon=8)   # Should print 'Send email only.'\n",
    "send_email(num_visits=8, visits_email=5, visits_coupon=8)   # Should print 'Send email with coupon.'\n",
    "send_email(num_visits=10, visits_email=5, visits_coupon=8)  # Should print 'Send email with coupon.'"
   ]
  },
  {
   "cell_type": "markdown",
   "id": "b80f5b66-7ce0-4cd0-acae-a67a9832d4d2",
   "metadata": {},
   "source": [
    "## Conclusion\n",
    "**Key takeaways from this Project**\n",
    "*   Conditional statements, comparison operators, and logical operators play a major role in automating processes and controlling the branching of code execution.\n",
    "*   Conditional statements allow you to determine whether a specific set of criteria has been met.\n",
    "*   Comparison operators allow you to compare pairs of values.\n",
    "*   Comparison operators such as `>=` and `<=` can be combined to select a range of data within a specific parameter.\n",
    "*   Logical operators such as `and` and `or` allow you to check more than one condition at a time."
   ]
  },
  {
   "cell_type": "markdown",
   "id": "c05465dc-023f-4c28-8fa3-02143b71fe70",
   "metadata": {},
   "source": [
    "## Author\n",
    "**Wilson Gitonga**"
   ]
  },
  {
   "cell_type": "code",
   "execution_count": null,
   "id": "ccc359e6-f44f-40fa-93e2-d4eb3dd93d2f",
   "metadata": {},
   "outputs": [],
   "source": []
  }
 ],
 "metadata": {
  "kernelspec": {
   "display_name": "Python 3 (ipykernel)",
   "language": "python",
   "name": "python3"
  },
  "language_info": {
   "codemirror_mode": {
    "name": "ipython",
    "version": 3
   },
   "file_extension": ".py",
   "mimetype": "text/x-python",
   "name": "python",
   "nbconvert_exporter": "python",
   "pygments_lexer": "ipython3",
   "version": "3.11.7"
  }
 },
 "nbformat": 4,
 "nbformat_minor": 5
}
